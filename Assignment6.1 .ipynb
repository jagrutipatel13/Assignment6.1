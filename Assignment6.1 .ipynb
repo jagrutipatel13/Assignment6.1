{
 "cells": [
  {
   "cell_type": "code",
   "execution_count": 2,
   "metadata": {},
   "outputs": [
    {
     "name": "stdout",
     "output_type": "stream",
     "text": [
      "Sample Data:  [1550, 1700, 900, 850, 1000, 950]\n",
      "Standard Deviation :  367.99003609699366\n"
     ]
    }
   ],
   "source": [
    "#Program to calculate standard deviation\n",
    "\n",
    "import math\n",
    "import sys\n",
    "\n",
    "def sd_calc(data):\n",
    "    n = len(data)\n",
    "\n",
    "    if n <= 1:\n",
    "        return 0.0\n",
    "\n",
    "    mean, sd = avg_calc(data), 0.0\n",
    "\n",
    "    # calculate stan. dev.\n",
    "    for el in data:\n",
    "        sd += (float(el) - mean)**2\n",
    "    sd = math.sqrt(sd / float(n-1))\n",
    "\n",
    "    return sd\n",
    "\n",
    "def avg_calc(ls):\n",
    "    n, mean = len(ls), 0.0\n",
    "\n",
    "    if n <= 1:\n",
    "        return ls[0]\n",
    "\n",
    "    # calculate average\n",
    "    for el in ls:\n",
    "        mean = mean + float(el)\n",
    "    mean = mean / float(n)\n",
    "\n",
    "    return mean\n",
    "\n",
    "data = [1550,1700,900,850,1000,950]\n",
    "print(\"Sample Data: \",data)\n",
    "print(\"Standard Deviation : \",sd_calc(data))\n"
   ]
  }
 ],
 "metadata": {
  "kernelspec": {
   "display_name": "Python 3",
   "language": "python",
   "name": "python3"
  },
  "language_info": {
   "codemirror_mode": {
    "name": "ipython",
    "version": 3
   },
   "file_extension": ".py",
   "mimetype": "text/x-python",
   "name": "python",
   "nbconvert_exporter": "python",
   "pygments_lexer": "ipython3",
   "version": "3.6.3"
  }
 },
 "nbformat": 4,
 "nbformat_minor": 2
}
